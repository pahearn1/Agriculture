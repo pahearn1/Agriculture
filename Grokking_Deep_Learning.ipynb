{
  "nbformat": 4,
  "nbformat_minor": 0,
  "metadata": {
    "colab": {
      "provenance": [],
      "authorship_tag": "ABX9TyNP0TebEYCxgYawgC5YOT6d",
      "include_colab_link": true
    },
    "kernelspec": {
      "name": "python3",
      "display_name": "Python 3"
    },
    "language_info": {
      "name": "python"
    }
  },
  "cells": [
    {
      "cell_type": "markdown",
      "metadata": {
        "id": "view-in-github",
        "colab_type": "text"
      },
      "source": [
        "<a href=\"https://colab.research.google.com/github/pahearn1/Agriculture/blob/master/Grokking_Deep_Learning.ipynb\" target=\"_parent\"><img src=\"https://colab.research.google.com/assets/colab-badge.svg\" alt=\"Open In Colab\"/></a>"
      ]
    },
    {
      "cell_type": "code",
      "source": [
        "weights = [.1,.2,1]\n",
        "def neural_network(input,weights):\n",
        "  pred=w_sum(input,weights)\n",
        "  return pred\n"
      ],
      "metadata": {
        "id": "ZyBrBBsuRfk0"
      },
      "execution_count": 33,
      "outputs": []
    },
    {
      "cell_type": "code",
      "source": [
        "def w_sum(a,b):\n",
        "  assert(len(a)==len(b))\n",
        "  output=0\n",
        "  for i in range(len(a)):\n",
        "    output += (a[i]*b[i])\n",
        "    return output"
      ],
      "metadata": {
        "id": "ZCECSJyMJBg9"
      },
      "execution_count": 36,
      "outputs": []
    },
    {
      "cell_type": "code",
      "source": [
        "\n",
        "toes=(8.5,9.5,10,9)\n",
        "wlrec=[.65,.8,.8,.9]\n",
        "nfans=[1.2,1.3,.5,1]\n",
        "\n",
        "input=[toes[0],wlrec[0],nfans[0]]\n",
        "pred = neural_network(input,weights)\n",
        "print (pred)\n",
        "\n",
        "\n"
      ],
      "metadata": {
        "colab": {
          "base_uri": "https://localhost:8080/"
        },
        "id": "1K58ccq5D-eD",
        "outputId": "317e65ab-81a5-40ae-a7a4-bca975ccfd7a"
      },
      "execution_count": 35,
      "outputs": [
        {
          "output_type": "stream",
          "name": "stdout",
          "text": [
            "0.8500000000000001\n"
          ]
        }
      ]
    },
    {
      "cell_type": "code",
      "source": [],
      "metadata": {
        "id": "rRuQD6wVKCW0"
      },
      "execution_count": 23,
      "outputs": []
    }
  ]
}